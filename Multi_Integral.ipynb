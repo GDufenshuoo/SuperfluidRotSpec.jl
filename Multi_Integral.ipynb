{
 "cells": [
  {
   "cell_type": "code",
   "execution_count": 19,
   "metadata": {},
   "outputs": [],
   "source": [
    "using MCIntegration"
   ]
  },
  {
   "cell_type": "code",
   "execution_count": 20,
   "metadata": {},
   "outputs": [
    {
     "data": {
      "text/plain": [
       "\u001b[32mIntegral 1 = 0.784603763724659 ± 0.0028909920869851936   (chi2/dof = 1.1)\u001b[0m\n",
       "\u001b[32mIntegral 2 = 0.5194944444639811 ± 0.0028056096006222582   (chi2/dof = 0.611)\u001b[0m"
      ]
     },
     "execution_count": 20,
     "metadata": {},
     "output_type": "execute_result"
    }
   ],
   "source": [
    "# (X, c)->(X[1]^2+X[2]^2<1.0, X[1]^2+X[2]^2+X[3]^2<1.0)\n",
    "integrate(\n",
    "    (X, c)->(X[1]^2+X[2]^2<1.0, X[1]^2+X[2]^2+X[3]^2<1.0); \n",
    "    var = Continuous(0.0, 1.0), dof = [[2,],[3,]]\n",
    "    )"
   ]
  },
  {
   "cell_type": "code",
   "execution_count": 36,
   "metadata": {},
   "outputs": [
    {
     "name": "stdout",
     "output_type": "stream",
     "text": [
      "\u001b[32mTotal iterations * blocks 160: 100%|██████| Time: 0:00:00 ( 3.21 ms/it)\u001b[39m\n"
     ]
    },
    {
     "data": {
      "text/plain": [
       "\u001b[32mIntegral 1 = 0.7823909321464659 ± 0.0027650105610831153   (chi2/dof = 0.429)\u001b[0m\n",
       "\u001b[32mIntegral 2 = 0.5266622143554947 ± 0.0025937008352456994   (chi2/dof = 0.968)\u001b[0m"
      ]
     },
     "execution_count": 36,
     "metadata": {},
     "output_type": "execute_result"
    }
   ],
   "source": [
    "an = integrate(var = Continuous(0.0, 1.0), dof = [[2,], [3,]], inplace=true) do X, f, c\n",
    "    f[1] = (X[1]^2 + X[2]^2 < 1.0) ? 1.0 : 0.0\n",
    "    f[2] = (X[1]^2 + X[2]^2 + X[3]^2 < 1.0) ? 1.0 : 0.0\n",
    "end"
   ]
  },
  {
   "cell_type": "code",
   "execution_count": 30,
   "metadata": {},
   "outputs": [
    {
     "name": "stdout",
     "output_type": "stream",
     "text": [
      "====================================     Integral 1    ================================================\n",
      "\u001b[33m  iter              integral                            wgt average                      chi2/dof\u001b[0m\n",
      "-------------------------------------------------------------------------------------------------------\n",
      "ignore        0.76695562 ± 0.011050784             0.76695562 ± 0.011050784                0.0000\n",
      "     2        0.76808438 ± 0.013093514             0.76695562 ± 0.011050784                0.0000\n",
      "     3        0.81296184 ± 0.012702416             0.79120335 ± 0.0091170943               6.0518\n",
      "     4        0.78518309 ± 0.0095948887            0.78834684 ± 0.0066092175               3.1293\n",
      "     5         0.7855968 ± 0.0085382163            0.78731644 ± 0.0052263655               2.1079\n",
      "     6        0.79143506 ± 0.0064721747            0.78894207 ± 0.0040661613               1.6422\n",
      "     7        0.78389952 ± 0.011033156             0.78833908 ± 0.003815307                1.3505\n",
      "     8        0.77479005 ± 0.009523463             0.78646524 ± 0.0035416637               1.4161\n",
      "     9        0.77343554 ± 0.0097949598             0.7849587 ± 0.0033306262               1.4374\n",
      "    10        0.78411943 ± 0.0093214008            0.78486368 ± 0.0031364246               1.2586\n",
      "-------------------------------------------------------------------------------------------------------\n",
      "====================================     Integral 2    ================================================\n",
      "\u001b[33m  iter              integral                            wgt average                      chi2/dof\u001b[0m\n",
      "-------------------------------------------------------------------------------------------------------\n",
      "ignore        0.51058416 ± 0.011462668             0.51058416 ± 0.011462668                0.0000\n",
      "     2        0.51948184 ± 0.01142985              0.51058416 ± 0.011462668                0.0000\n",
      "     3        0.53706012 ± 0.010802567             0.52876655 ± 0.0078509646               1.2493\n",
      "     4        0.52524566 ± 0.0092554534            0.52729325 ± 0.0059871175               0.6667\n",
      "     5        0.52217564 ± 0.010404342             0.52602018 ± 0.0051892737               0.5051\n",
      "     6        0.53294928 ± 0.011688571             0.52716105 ± 0.0047428683               0.4522\n",
      "     7        0.52519226 ± 0.0095669173            0.52677263 ± 0.0042493374               0.3686\n",
      "     8        0.52291931 ± 0.010632202              0.5262419 ± 0.003945864                0.3260\n",
      "     9        0.52058293 ± 0.0099145716            0.52546812 ± 0.0036661829               0.3196\n",
      "    10         0.5284204 ± 0.0096927573            0.52583763 ± 0.0034290882               0.2898\n",
      "-------------------------------------------------------------------------------------------------------\n"
     ]
    }
   ],
   "source": [
    "report(an)"
   ]
  },
  {
   "cell_type": "code",
   "execution_count": 41,
   "metadata": {},
   "outputs": [
    {
     "ename": "LoadError",
     "evalue": "MethodError: no method matching getindex(::Configuration{2, Tuple{Continuous{Vector{Float64}}}, Nothing, Vector{Float64}, Float64}, ::Int64)",
     "output_type": "error",
     "traceback": [
      "MethodError: no method matching getindex(::Configuration{2, Tuple{Continuous{Vector{Float64}}}, Nothing, Vector{Float64}, Float64}, ::Int64)",
      "",
      "Stacktrace:",
      " [1] top-level scope",
      "   @ In[41]:1"
     ]
    }
   ],
   "source": [
    "an.config"
   ]
  },
  {
   "cell_type": "code",
   "execution_count": null,
   "metadata": {},
   "outputs": [],
   "source": []
  },
  {
   "cell_type": "code",
   "execution_count": null,
   "metadata": {},
   "outputs": [],
   "source": []
  }
 ],
 "metadata": {
  "kernelspec": {
   "display_name": "Julia 1.8.4",
   "language": "julia",
   "name": "julia-1.8"
  },
  "language_info": {
   "file_extension": ".jl",
   "mimetype": "application/julia",
   "name": "julia",
   "version": "1.8.4"
  },
  "orig_nbformat": 4
 },
 "nbformat": 4,
 "nbformat_minor": 2
}
